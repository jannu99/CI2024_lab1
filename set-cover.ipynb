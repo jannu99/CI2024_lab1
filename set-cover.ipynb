{
 "cells": [
  {
   "cell_type": "markdown",
   "metadata": {},
   "source": [
    "#### Initialize universe and number of sets  "
   ]
  },
  {
   "cell_type": "code",
   "execution_count": null,
   "metadata": {},
   "outputs": [],
   "source": [
    "import numpy as np\n",
    "import matplotlib.pyplot as plt\n",
    "\n",
    "def create_instance(universe_size, num_sets, density):\n",
    "    rng = np.random.default_rng()\n",
    "    SETS = rng.random((num_sets, universe_size)) < density\n",
    "    for s in range(universe_size):\n",
    "        if not np.any(SETS[:, s]):\n",
    "            SETS[rng.integers(num_sets), s] = True\n",
    "    COSTS = np.pow(SETS.sum(axis=1), 1.1) \n",
    "    return SETS, COSTS"
   ]
  },
  {
   "cell_type": "markdown",
   "metadata": {},
   "source": [
    "#### Return the number of covered elements for the solution"
   ]
  },
  {
   "cell_type": "code",
   "execution_count": null,
   "metadata": {},
   "outputs": [],
   "source": [
    "def valid(solution, SETS):\n",
    "    phenotype = np.logical_or.reduce(SETS[solution])\n",
    "    covered_elements = np.sum(phenotype)\n",
    "    return covered_elements"
   ]
  },
  {
   "cell_type": "markdown",
   "metadata": {},
   "source": [
    "#### Find the cost of the solution"
   ]
  },
  {
   "cell_type": "code",
   "execution_count": null,
   "metadata": {},
   "outputs": [],
   "source": [
    "def cost(solution, COSTS):\n",
    "    return COSTS[solution].sum()"
   ]
  },
  {
   "cell_type": "markdown",
   "metadata": {},
   "source": [
    "#### Two different tweak functions, first one will be used by hill climbing and the second one by simulated annealing"
   ]
  },
  {
   "cell_type": "code",
   "execution_count": null,
   "metadata": {},
   "outputs": [],
   "source": [
    "\n",
    "def tweak_hill_climbing(solution, num_sets, rng, change_rate):\n",
    "    new_sol = solution.copy()\n",
    "    mask = rng.random(num_sets) < change_rate\n",
    "    new_sol[mask] = ~new_sol[mask] \n",
    "    return new_sol\n",
    "\n",
    "def tweak_simulated_annealing(solution, num_sets, rng):\n",
    "    new_sol = solution.copy()\n",
    "    i = rng.integers(num_sets)\n",
    "    new_sol[i] = not solution[i] \n",
    "    return new_sol\n"
   ]
  },
  {
   "cell_type": "markdown",
   "metadata": {},
   "source": [
    "#### Compute the fitness wich is the opposite of cost but adding a penalty for non covered items, the penalty change depending on the instance of the problem"
   ]
  },
  {
   "cell_type": "code",
   "execution_count": null,
   "metadata": {},
   "outputs": [],
   "source": [
    "def fitness(solution, SETS, COSTS, universe_size, instance_scale):\n",
    "    num_elements_covered = valid(solution, SETS)\n",
    "    uncovered_elements = universe_size - num_elements_covered\n",
    "    total_cost = cost(solution, COSTS)\n",
    "    alpha = instance_scale\n",
    "    return - (alpha * uncovered_elements + total_cost)"
   ]
  },
  {
   "cell_type": "markdown",
   "metadata": {},
   "source": [
    "##### Hill climbing, the tweak solution changes the solution more in the initials steps and less then to favor exploration in the first phase and exploitation later\n"
   ]
  },
  {
   "cell_type": "code",
   "execution_count": null,
   "metadata": {},
   "outputs": [],
   "source": [
    "# Hill Climbing\n",
    "def hill_climbing(SETS, COSTS, universe_size, num_sets, steps=10000):\n",
    "    rng = np.random.default_rng()\n",
    "    solution = rng.random(num_sets) < 0.1  \n",
    "    best_fitness = fitness(solution, SETS, COSTS, universe_size, num_sets)\n",
    "    fitness_history = []  \n",
    "\n",
    "    for step in range(steps):\n",
    "        change_rate = 0.1 * (1 - step / steps)\n",
    "        new_solution = tweak_hill_climbing(solution, num_sets, rng, change_rate)\n",
    "        new_fitness = fitness(new_solution, SETS, COSTS, universe_size, num_sets)\n",
    "\n",
    "        if new_fitness > best_fitness:\n",
    "            solution = new_solution\n",
    "            best_fitness = new_fitness\n",
    "\n",
    "        fitness_history.append(best_fitness)\n",
    "\n",
    "    return solution, best_fitness, fitness_history\n"
   ]
  },
  {
   "cell_type": "markdown",
   "metadata": {},
   "source": [
    "#### Hill climbing seems to performs better when the dimensions of the problem are relatively small"
   ]
  },
  {
   "cell_type": "code",
   "execution_count": null,
   "metadata": {},
   "outputs": [],
   "source": [
    "# Simulated Annealing\n",
    "def simulated_annealing(SETS, COSTS, universe_size, num_sets, steps=10000, temp=2000.0, cooling_rate=0.95):\n",
    "\n",
    "    rng = np.random.default_rng()\n",
    "    solution = rng.random(num_sets) < 0.1  \n",
    "    best_solution = solution\n",
    "    best_fitness = fitness(solution, SETS, COSTS, universe_size, num_sets)\n",
    "    fitness_history = []  \n",
    "\n",
    "    current_temp = temp\n",
    "\n",
    "    for step in range(steps):\n",
    "        new_solution = tweak_simulated_annealing(solution, num_sets, rng)\n",
    "        new_fitness = fitness(new_solution, SETS, COSTS, universe_size, num_sets)\n",
    "\n",
    "        if new_fitness > best_fitness:\n",
    "            solution = new_solution\n",
    "            best_fitness = new_fitness\n",
    "            best_solution = solution\n",
    "        else:\n",
    "            accept_prob = np.exp((new_fitness - best_fitness) / current_temp)\n",
    "            if rng.random() < accept_prob:\n",
    "                solution = new_solution\n",
    "                best_fitness = new_fitness\n",
    "\n",
    "        fitness_history.append(best_fitness)\n",
    "        current_temp *= cooling_rate\n",
    "\n",
    "    return best_solution, best_fitness, fitness_history"
   ]
  },
  {
   "cell_type": "markdown",
   "metadata": {},
   "source": [
    "#### Choose wich algorithm use and do the computation"
   ]
  },
  {
   "cell_type": "code",
   "execution_count": null,
   "metadata": {},
   "outputs": [],
   "source": [
    "def solve_scp_instance(universe_size, num_sets, density):\n",
    "    SETS, COSTS = create_instance(universe_size, num_sets, density)\n",
    "    \n",
    "    if num_sets <= 100:\n",
    "        print(f\"Solving instance with {num_sets} sets using Hill Climbing.\")\n",
    "        best_solution, best_fitness, fitness_history = hill_climbing(SETS, COSTS, universe_size, num_sets)\n",
    "    else:\n",
    "        print(f\"Solving instance with {num_sets} sets using Simulated Annealing.\")\n",
    "        best_solution, best_fitness, fitness_history = simulated_annealing(SETS, COSTS, universe_size, num_sets)\n",
    "    \n",
    "    print(f\"Best fitness: {best_fitness}, Elements covered: {valid(best_solution, SETS)}\")\n",
    "    \n",
    "    # Plotting the fitness history\n",
    "    plt.plot(fitness_history)\n",
    "    plt.xlabel('Steps')\n",
    "    plt.ylabel('Fitness')\n",
    "    plt.title(f'Fitness trend during optimization (Sets: {num_sets})')\n",
    "    plt.show()\n",
    "\n",
    "    return best_solution, best_fitness\n",
    "\n"
   ]
  },
  {
   "cell_type": "markdown",
   "metadata": {},
   "source": [
    "#### Initialized all the instances and start the computation"
   ]
  },
  {
   "cell_type": "code",
   "execution_count": null,
   "metadata": {},
   "outputs": [],
   "source": [
    "instances = [\n",
    "    (100, 10, 0.2),\n",
    "    (1000, 100, 0.2),\n",
    "    (10000, 1000, 0.2),\n",
    "    (100000, 10000, 0.1),\n",
    "    (100000, 10000, 0.2),\n",
    "    (100000, 10000, 0.3)\n",
    "]\n",
    "\n",
    "\n",
    "for i, (universe_size, num_sets, density) in enumerate(instances):\n",
    "    print(f\"\\nInstance {i+1}: Universe = {universe_size}, Sets = {num_sets}, Density = {density}\")\n",
    "    solve_scp_instance(universe_size, num_sets, density)\n"
   ]
  }
 ],
 "metadata": {
  "language_info": {
   "name": "python"
  }
 },
 "nbformat": 4,
 "nbformat_minor": 2
}
